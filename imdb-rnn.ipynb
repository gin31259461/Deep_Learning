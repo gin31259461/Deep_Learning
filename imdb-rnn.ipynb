{
 "cells": [
  {
   "cell_type": "markdown",
   "metadata": {},
   "source": [
    "# Sentiment Analysis using the IMDb reviews dataset - RNN-based model with attention/transformers mechanisms"
   ]
  },
  {
   "cell_type": "markdown",
   "metadata": {},
   "source": [
    "Ref.\n",
    "\n",
    "Kaggle\n",
    "\n",
    "[Sentiment Analysis of IMDB Movie Reviews - gold](https://www.kaggle.com/code/lakshmi25npathi/sentiment-analysis-of-imdb-movie-reviews)\n",
    "\n",
    "[Sentiment Analysis of IMDB Movie Reviews - cooper](https://www.kaggle.com/code/bhavikjikadara/sentiment-analysis-of-imdb-movie-reviews)\n",
    "\n",
    "[IMDB Dataset Sentiment Analysis using RNN](https://www.kaggle.com/code/tanyildizderya/imdb-dataset-sentiment-analysis-using-rnn)\n",
    "\n",
    "Keras\n",
    "\n",
    "[Keras - IMDB movie review sentiment classification dataset](https://keras.io/api/datasets/imdb/)\n",
    "\n",
    "這是一個包含 25,000 部電影評論的 IMDB 數據集，按情感（正面/負面）進行標記。評論已經過預處理，每個評論都被編碼為一個詞索引列表（整數）。為了方便起見，詞彙按照數據集中的整體頻率進行索引，因此例如整數 \"3\" 編碼了數據中第三個最常見的詞。這使得可以快速進行過濾操作，例如：\"只考慮前 10,000 個最常見的詞，但排除前 20 個最常見的詞\"。\n",
    "\n",
    "按照慣例，\"0\" 不代表特定的詞，而是用於編碼填充標記。\n",
    "\n",
    "Benchmark\n",
    "\n",
    "[Sentiment Analysis on IMDb](https://paperswithcode.com/sota/sentiment-analysis-on-imdb)"
   ]
  },
  {
   "cell_type": "code",
   "execution_count": 20,
   "metadata": {},
   "outputs": [
    {
     "name": "stdout",
     "output_type": "stream",
     "text": [
      "[name: \"/device:CPU:0\"\n",
      "device_type: \"CPU\"\n",
      "memory_limit: 268435456\n",
      "locality {\n",
      "}\n",
      "incarnation: 9866080591906230854\n",
      "xla_global_id: -1\n",
      ", name: \"/device:GPU:0\"\n",
      "device_type: \"GPU\"\n",
      "memory_limit: 18478489396\n",
      "locality {\n",
      "  bus_id: 1\n",
      "}\n",
      "incarnation: 2034699411910385002\n",
      "physical_device_desc: \"device: 0, name: DML, pci bus id: <undefined>\"\n",
      "xla_global_id: -1\n",
      ", name: \"/device:GPU:1\"\n",
      "device_type: \"GPU\"\n",
      "memory_limit: 15569762240\n",
      "locality {\n",
      "  bus_id: 1\n",
      "}\n",
      "incarnation: 13348634053460118536\n",
      "physical_device_desc: \"device: 1, name: DML, pci bus id: <undefined>\"\n",
      "xla_global_id: -1\n",
      "]\n"
     ]
    },
    {
     "data": {
      "text/plain": [
       "[PhysicalDevice(name='/physical_device:GPU:0', device_type='GPU'),\n",
       " PhysicalDevice(name='/physical_device:GPU:1', device_type='GPU')]"
      ]
     },
     "execution_count": 20,
     "metadata": {},
     "output_type": "execute_result"
    }
   ],
   "source": [
    "# Python version: 3.10.6\n",
    "\n",
    "from tensorflow.python.client import device_lib\n",
    "print(device_lib.list_local_devices())\n",
    "\n",
    "import os\n",
    "\n",
    "os.environ[\"KERAS_BACKEND\"] = \"tensorflow\"\n",
    "\n",
    "import seaborn as sns\n",
    "import matplotlib.pyplot as plt\n",
    "import tensorflow as tf\n",
    "import pickle\n",
    "from sklearn import metrics\n",
    "import numpy as np\n",
    "import pandas as pd\n",
    "\n",
    "import keras\n",
    "from keras import layers, losses, optimizers\n",
    "from keras_preprocessing.sequence import pad_sequences\n",
    "from keras.datasets import imdb\n",
    "import matplotlib.pyplot as plt\n",
    "from tqdm.keras import TqdmCallback\n",
    "\n",
    "import nltk\n",
    "from nltk.tokenize.toktok import ToktokTokenizer\n",
    "\n",
    "tf.config.list_physical_devices(\"GPU\")"
   ]
  },
  {
   "cell_type": "code",
   "execution_count": 21,
   "metadata": {},
   "outputs": [],
   "source": [
    "start_char = 1\n",
    "oov_char = 2\n",
    "index_from = 3\n",
    "\n",
    "num_epochs = 5\n",
    "batch_size = 64\n",
    "validation_split = 0.1\n",
    "sequence_max_length = 3\n",
    "# sequence_max_length = 500\n",
    "\n",
    "num_words = 3\n",
    "# num_words = 1000"
   ]
  },
  {
   "cell_type": "markdown",
   "metadata": {},
   "source": [
    "## Load dataset"
   ]
  },
  {
   "cell_type": "code",
   "execution_count": 22,
   "metadata": {},
   "outputs": [],
   "source": [
    "(x_train, y_train), (x_test, y_test) = imdb.load_data(\n",
    "    num_words=num_words,\n",
    "    skip_top=0,\n",
    "    maxlen=None,\n",
    "    seed=113,\n",
    "    start_char=start_char,\n",
    "    oov_char=oov_char,\n",
    "    index_from=index_from,\n",
    ")"
   ]
  },
  {
   "cell_type": "markdown",
   "metadata": {},
   "source": [
    "## EDA"
   ]
  },
  {
   "cell_type": "code",
   "execution_count": 23,
   "metadata": {},
   "outputs": [
    {
     "name": "stdout",
     "output_type": "stream",
     "text": [
      "Training data shape: (25000,)\n",
      "Training label shape: (25000,)\n",
      "Test data shape: (25000,)\n",
      "Test label shape: (25000,)\n"
     ]
    }
   ],
   "source": [
    "print(\"Training data shape:\", x_train.shape)\n",
    "print(\"Training label shape:\", y_train.shape)\n",
    "print(\"Test data shape:\", x_test.shape)\n",
    "print(\"Test label shape:\", y_test.shape)"
   ]
  },
  {
   "cell_type": "code",
   "execution_count": 24,
   "metadata": {},
   "outputs": [
    {
     "name": "stdout",
     "output_type": "stream",
     "text": [
      "y train distribution:  {0: 12500, 1: 12500}\n",
      "y test distribution:  {0: 12500, 1: 12500}\n"
     ]
    }
   ],
   "source": [
    "unique, counts = np.unique(y_train, return_counts=True)\n",
    "print(\"y train distribution: \", dict(zip(unique, counts)))\n",
    "\n",
    "unique, counts = np.unique(y_test, return_counts=True)\n",
    "print(\"y test distribution: \", dict(zip(unique, counts)))"
   ]
  },
  {
   "cell_type": "code",
   "execution_count": 25,
   "metadata": {},
   "outputs": [],
   "source": [
    "def print_decoded_sequence(data, index=0):\n",
    "    # 取得字典 mapping => { word: index ...}\n",
    "    word_index = imdb.get_word_index()\n",
    "\n",
    "    # key, value => word, index\n",
    "    inverted_word_index = dict((index + index_from, word) for (word, index) in word_index.items())\n",
    "\n",
    "    # Update `inverted_word_index` to include `start_char` and `oov_char`\n",
    "    inverted_word_index[0] = \"[MASK]\"\n",
    "    inverted_word_index[start_char] = \"[START]\"\n",
    "    inverted_word_index[oov_char] = \"[OOV]\"\n",
    "\n",
    "    # X data (word sequence)\n",
    "\n",
    "    print(data[index])\n",
    "    decoded_sequence = \" \".join(inverted_word_index[i] for i in data[index])\n",
    "    print(decoded_sequence)\n",
    "\n",
    "    # y data (labels: positive or negative)\n",
    "\n",
    "    print(y_train[index])"
   ]
  },
  {
   "cell_type": "code",
   "execution_count": 26,
   "metadata": {},
   "outputs": [
    {
     "name": "stdout",
     "output_type": "stream",
     "text": [
      "[1, 2, 2, 2, 2, 2, 2, 2, 2, 2, 2, 2, 2, 2, 4, 2, 2, 2, 2, 2, 2, 2, 2, 2, 2, 2, 2, 2, 2, 2, 2, 2, 2, 4, 2, 2, 2, 2, 2, 2, 2, 4, 2, 2, 2, 2, 2, 2, 2, 2, 4, 2, 2, 2, 2, 2, 2, 2, 2, 2, 4, 2, 2, 2, 4, 2, 2, 2, 2, 2, 2, 2, 2, 2, 2, 2, 2, 4, 2, 2, 2, 2, 2, 2, 2, 2, 2, 2, 2, 2, 2, 2, 2, 2, 2, 2, 4, 2, 2, 2, 2, 2, 2, 2, 4, 2, 2, 2, 2, 2, 2, 2, 2, 2, 2, 2, 2, 2, 2, 2, 2, 2, 2, 2, 2, 2, 2, 2, 2, 2, 2, 2, 2, 2, 4, 2, 2, 2, 2, 2, 4, 2, 2, 2, 2, 2, 2, 2, 2, 2, 2, 2, 2, 2, 2, 2, 4, 2, 2, 2, 2, 2, 4, 2, 2, 2, 2, 2, 2, 2, 2, 2, 2, 2, 2, 2, 4, 2, 2, 2, 2, 2, 2, 2, 2, 2, 2, 2, 2, 2, 2, 2, 2, 2, 2, 2, 4, 2, 2, 2, 2, 2, 2, 2, 2, 2, 2, 2, 2, 2, 2, 2, 2, 2, 2, 2, 2, 2]\n",
      "[START] [OOV] [OOV] [OOV] [OOV] [OOV] [OOV] [OOV] [OOV] [OOV] [OOV] [OOV] [OOV] [OOV] the [OOV] [OOV] [OOV] [OOV] [OOV] [OOV] [OOV] [OOV] [OOV] [OOV] [OOV] [OOV] [OOV] [OOV] [OOV] [OOV] [OOV] [OOV] the [OOV] [OOV] [OOV] [OOV] [OOV] [OOV] [OOV] the [OOV] [OOV] [OOV] [OOV] [OOV] [OOV] [OOV] [OOV] the [OOV] [OOV] [OOV] [OOV] [OOV] [OOV] [OOV] [OOV] [OOV] the [OOV] [OOV] [OOV] the [OOV] [OOV] [OOV] [OOV] [OOV] [OOV] [OOV] [OOV] [OOV] [OOV] [OOV] [OOV] the [OOV] [OOV] [OOV] [OOV] [OOV] [OOV] [OOV] [OOV] [OOV] [OOV] [OOV] [OOV] [OOV] [OOV] [OOV] [OOV] [OOV] [OOV] the [OOV] [OOV] [OOV] [OOV] [OOV] [OOV] [OOV] the [OOV] [OOV] [OOV] [OOV] [OOV] [OOV] [OOV] [OOV] [OOV] [OOV] [OOV] [OOV] [OOV] [OOV] [OOV] [OOV] [OOV] [OOV] [OOV] [OOV] [OOV] [OOV] [OOV] [OOV] [OOV] [OOV] [OOV] [OOV] [OOV] the [OOV] [OOV] [OOV] [OOV] [OOV] the [OOV] [OOV] [OOV] [OOV] [OOV] [OOV] [OOV] [OOV] [OOV] [OOV] [OOV] [OOV] [OOV] [OOV] [OOV] the [OOV] [OOV] [OOV] [OOV] [OOV] the [OOV] [OOV] [OOV] [OOV] [OOV] [OOV] [OOV] [OOV] [OOV] [OOV] [OOV] [OOV] [OOV] the [OOV] [OOV] [OOV] [OOV] [OOV] [OOV] [OOV] [OOV] [OOV] [OOV] [OOV] [OOV] [OOV] [OOV] [OOV] [OOV] [OOV] [OOV] [OOV] the [OOV] [OOV] [OOV] [OOV] [OOV] [OOV] [OOV] [OOV] [OOV] [OOV] [OOV] [OOV] [OOV] [OOV] [OOV] [OOV] [OOV] [OOV] [OOV] [OOV] [OOV]\n",
      "1\n"
     ]
    }
   ],
   "source": [
    "print_decoded_sequence(x_train)"
   ]
  },
  {
   "cell_type": "code",
   "execution_count": 27,
   "metadata": {},
   "outputs": [
    {
     "data": {
      "text/plain": [
       "Text(0.5, 1.0, 'y train')"
      ]
     },
     "execution_count": 27,
     "metadata": {},
     "output_type": "execute_result"
    },
    {
     "data": {
      "image/png": "[encoded data removed]",
      "text/plain": [
       "<Figure size 640x480 with 1 Axes>"
      ]
     },
     "metadata": {},
     "output_type": "display_data"
    }
   ],
   "source": [
    "# training label distribution\n",
    "\n",
    "plt.figure()\n",
    "sns.countplot(pd.DataFrame(y_train, columns=[\"class\"]), x=\"class\")\n",
    "plt.xlabel(\"Classes\")\n",
    "plt.ylabel(\"Frequency\")\n",
    "plt.title(\"y train\")"
   ]
  },
  {
   "cell_type": "code",
   "execution_count": 28,
   "metadata": {},
   "outputs": [
    {
     "data": {
      "text/plain": [
       "Text(0.5, 1.0, 'y test')"
      ]
     },
     "execution_count": 28,
     "metadata": {},
     "output_type": "execute_result"
    },
    {
     "data": {
      "image/png": "[encoded data removed]",
      "text/plain": [
       "<Figure size 640x480 with 1 Axes>"
      ]
     },
     "metadata": {},
     "output_type": "display_data"
    }
   ],
   "source": [
    "# test label distribution\n",
    "\n",
    "plt.figure()\n",
    "sns.countplot(pd.DataFrame(y_test, columns=[\"class\"]), x=\"class\")\n",
    "plt.xlabel(\"Classes\")\n",
    "plt.ylabel(\"Frequency\")\n",
    "plt.title(\"y test\")"
   ]
  },
  {
   "cell_type": "code",
   "execution_count": 29,
   "metadata": {},
   "outputs": [],
   "source": [
    "# words distribution\n",
    "\n",
    "\n",
    "def visualize_sequence_distribution(x_train, x_test):\n",
    "    review_len_train = []\n",
    "    review_len_test = []\n",
    "    for i, j in zip(x_train, x_test):\n",
    "        review_len_train.append(len(i))\n",
    "        review_len_test.append(len(j))\n",
    "\n",
    "    print(\"min:\", min(review_len_train), \"max:\", max(review_len_train))\n",
    "    print(\"min:\", min(review_len_test), \"max:\", max(review_len_test))\n",
    "\n",
    "    sns.displot(review_len_train, rug_kws={\"alpha\": 0.3})\n",
    "    plt.xlabel(\"review length\")\n",
    "    plt.title(\"review train\")\n",
    "    sns.displot(review_len_test, rug_kws={\"alpha\": 0.3})\n",
    "    plt.xlabel(\"review length\")\n",
    "    plt.title(\"review test\")"
   ]
  },
  {
   "cell_type": "code",
   "execution_count": 30,
   "metadata": {},
   "outputs": [
    {
     "name": "stdout",
     "output_type": "stream",
     "text": [
      "min: 11 max: 2494\n",
      "min: 7 max: 2315\n"
     ]
    },
    {
     "data": {
      "image/png": "[encoded data removed]",
      "text/plain": [
       "<Figure size 500x500 with 1 Axes>"
      ]
     },
     "metadata": {},
     "output_type": "display_data"
    },
    {
     "data": {
      "image/png": "[encoded data removed]",
      "text/plain": [
       "<Figure size 500x500 with 1 Axes>"
      ]
     },
     "metadata": {},
     "output_type": "display_data"
    }
   ],
   "source": [
    "visualize_sequence_distribution(x_train, x_test)"
   ]
  },
  {
   "cell_type": "markdown",
   "metadata": {},
   "source": [
    "## Data preprocessing"
   ]
  },
  {
   "cell_type": "markdown",
   "metadata": {},
   "source": [
    "Keras's IMDB\n",
    "\n",
    "X data : 資料已經預處理過，包括\n",
    "* normalization => setting English stopwords\n",
    "* removing html strips and noise text\n",
    "* removing special characters\n",
    "* segmentation (斷詞)\n",
    "* removing stopwords\n",
    "* encoding (編碼)\n",
    "\n",
    "y data : 代表正向 (positive) 或負向 (negative) 的評論"
   ]
  },
  {
   "cell_type": "code",
   "execution_count": 31,
   "metadata": {},
   "outputs": [],
   "source": [
    "# 使每個 sequence 有相同的長度\n",
    "\n",
    "x_train = pad_sequences(x_train, maxlen=sequence_max_length)\n",
    "x_test = pad_sequences(x_test, maxlen=sequence_max_length)"
   ]
  },
  {
   "cell_type": "code",
   "execution_count": 32,
   "metadata": {},
   "outputs": [
    {
     "name": "stdout",
     "output_type": "stream",
     "text": [
      "Training data shape: (25000, 5)\n",
      "Training label shape: (25000,)\n",
      "Test data shape: (25000, 5)\n",
      "Test label shape: (25000,)\n"
     ]
    }
   ],
   "source": [
    "print(\"Training data shape:\", x_train.shape)\n",
    "print(\"Training label shape:\", y_train.shape)\n",
    "print(\"Test data shape:\", x_test.shape)\n",
    "print(\"Test label shape:\", y_test.shape)"
   ]
  },
  {
   "cell_type": "code",
   "execution_count": 33,
   "metadata": {},
   "outputs": [
    {
     "name": "stdout",
     "output_type": "stream",
     "text": [
      "min: 5 max: 5\n",
      "min: 5 max: 5\n"
     ]
    },
    {
     "data": {
      "image/png": "[encoded data removed]",
      "text/plain": [
       "<Figure size 500x500 with 1 Axes>"
      ]
     },
     "metadata": {},
     "output_type": "display_data"
    },
    {
     "data": {
      "image/png": "[encoded data removed]",
      "text/plain": [
       "<Figure size 500x500 with 1 Axes>"
      ]
     },
     "metadata": {},
     "output_type": "display_data"
    }
   ],
   "source": [
    "visualize_sequence_distribution(x_train, x_test)"
   ]
  },
  {
   "cell_type": "code",
   "execution_count": 34,
   "metadata": {},
   "outputs": [
    {
     "name": "stdout",
     "output_type": "stream",
     "text": [
      "[2 2 2 2 2]\n",
      "[OOV] [OOV] [OOV] [OOV] [OOV]\n",
      "1\n"
     ]
    }
   ],
   "source": [
    "print_decoded_sequence(x_train)"
   ]
  },
  {
   "cell_type": "markdown",
   "metadata": {},
   "source": [
    "## RNN mechanism\n",
    "\n",
    "Ref.\n",
    "\n",
    "[一文搞懂RNN（循环神经网络）基础篇](https://zhuanlan.zhihu.com/p/30844905)\n",
    "\n",
    "![rnn](./images/rnn.png)\n",
    "\n",
    "S<sub>t</sub> 代表神經元在 t 時刻上，同時接收\n",
    "* 輸入 X 與其輸入權重 U\n",
    "* 前一次 S 在 t-1 時刻的 S<sub>t-1</sub> 與其 W (S<sub>t-1</sub> --> S<sub>t</sub> 的權重)\n",
    "\n",
    "展開\n",
    "\n",
    "![rnn-expand](./images/rnn-expand.png)"
   ]
  },
  {
   "cell_type": "markdown",
   "metadata": {},
   "source": [
    "## Attention mechanism\n",
    "\n",
    "Ref.\n",
    "\n",
    "[完全解析RNN, Seq2Seq, Attention注意力机制](https://zhuanlan.zhihu.com/p/51383402)\n",
    "\n",
    "[A simple overview of RNN, LSTM and Attention Mechanism](https://medium.com/swlh/a-simple-overview-of-rnn-lstm-and-attention-mechanism-9e844763d07b)\n",
    "\n",
    "[注意力機制 (Attention Mechanism) 的理解與實作](https://www.kaggle.com/code/lianghsunhuang/attention-mechanism)\n",
    "\n",
    "Attention 的架構\n",
    "\n",
    "![attention-mechanism](./images/attention-mechanism.png)"
   ]
  },
  {
   "cell_type": "markdown",
   "metadata": {},
   "source": [
    "## Build model"
   ]
  },
  {
   "cell_type": "markdown",
   "metadata": {},
   "source": [
    "Ref.\n",
    "\n",
    "[Keras 中的循环神经网络 (RNN)](https://tensorflow.google.cn/guide/keras/rnn?hl=zh-cn)\n",
    "\n",
    "[Keras实现CNN、RNN（基于attention 的双向RNN）及两者的融合](https://blog.csdn.net/xwd18280820053/article/details/80060544)\n",
    "\n",
    "[Text classification with an RNN](https://www.tensorflow.org/text/tutorials/text_classification_rnn)"
   ]
  },
  {
   "cell_type": "code",
   "execution_count": 35,
   "metadata": {},
   "outputs": [],
   "source": [
    "class BaseRNN(keras.Model):\n",
    "\n",
    "    def __init__(self, **kwargs):\n",
    "\n",
    "        super(BaseRNN, self).__init__()\n",
    "\n",
    "        self.embedding = layers.Embedding(num_words, 64, mask_zero=True)\n",
    "        self.rnn = layers.SimpleRNN(64)\n",
    "        self.dense_1 = layers.Dense(64, activation=\"relu\")\n",
    "        self.final_output = tf.keras.layers.Dense(1, activation=\"sigmoid\")\n",
    "\n",
    "    def call(self, inputs, training=False):\n",
    "        x = self.embedding(inputs, training=training)\n",
    "        x = self.rnn(x, training=training)\n",
    "        x = self.dense_1(x, training=training)\n",
    "        x = self.final_output(x, training=training)\n",
    "        return x\n",
    "\n",
    "\n",
    "# class BidiectionalRNNwithAttention(keras.Model):\n",
    "\n",
    "#     def __init__(self, **kwargs):\n",
    "\n",
    "#         super(BidiectionalRNNwithAttention, self).__init__(**kwargs)\n",
    "\n",
    "#     def call(self, inputs, training=False):\n",
    "#         pass"
   ]
  },
  {
   "cell_type": "markdown",
   "metadata": {},
   "source": [
    "## Preview model"
   ]
  },
  {
   "cell_type": "code",
   "execution_count": 36,
   "metadata": {},
   "outputs": [
    {
     "name": "stdout",
     "output_type": "stream",
     "text": [
      "Model: \"base_rnn_1\"\n",
      "_________________________________________________________________\n",
      " Layer (type)                Output Shape              Param #   \n",
      "=================================================================\n",
      " embedding_1 (Embedding)     (None, 5, 64)             320       \n",
      "                                                                 \n",
      " simple_rnn_1 (SimpleRNN)    (None, 64)                8256      \n",
      "                                                                 \n",
      " dense_2 (Dense)             (None, 64)                4160      \n",
      "                                                                 \n",
      " dense_3 (Dense)             (None, 1)                 65        \n",
      "                                                                 \n",
      "=================================================================\n",
      "Total params: 12,801\n",
      "Trainable params: 12,801\n",
      "Non-trainable params: 0\n",
      "_________________________________________________________________\n"
     ]
    }
   ],
   "source": [
    "rnn = BaseRNN()\n",
    "rnn.build(input_shape=(None, sequence_max_length))\n",
    "rnn.call(layers.Input((sequence_max_length)))\n",
    "rnn.summary()"
   ]
  },
  {
   "cell_type": "code",
   "execution_count": 37,
   "metadata": {},
   "outputs": [],
   "source": [
    "rnn.compile(loss=losses.BinaryCrossentropy(from_logits=False), optimizer=optimizers.Adam(), metrics=[\"accuracy\"])"
   ]
  },
  {
   "cell_type": "markdown",
   "metadata": {},
   "source": [
    "## Train model"
   ]
  },
  {
   "cell_type": "code",
   "execution_count": 38,
   "metadata": {},
   "outputs": [
    {
     "data": {
      "application/vnd.jupyter.widget-view+json": {
       "model_id": "508c9b91e14349fd8e19da78c7858ed4",
       "version_major": 2,
       "version_minor": 0
      },
      "text/plain": [
       "0epoch [00:00, ?epoch/s]"
      ]
     },
     "metadata": {},
     "output_type": "display_data"
    }
   ],
   "source": [
    "train_history = rnn.fit(\n",
    "    x_train,\n",
    "    y_train,\n",
    "    epochs=num_epochs,\n",
    "    verbose=0,\n",
    "    batch_size=batch_size,\n",
    "    validation_split=validation_split,\n",
    "    callbacks=[TqdmCallback(verbose=0)],\n",
    ")"
   ]
  },
  {
   "cell_type": "markdown",
   "metadata": {},
   "source": [
    "## Evaluation"
   ]
  },
  {
   "cell_type": "code",
   "execution_count": null,
   "metadata": {},
   "outputs": [],
   "source": []
  },
  {
   "cell_type": "markdown",
   "metadata": {},
   "source": [
    "## Save result"
   ]
  },
  {
   "cell_type": "code",
   "execution_count": null,
   "metadata": {},
   "outputs": [],
   "source": []
  },
  {
   "cell_type": "markdown",
   "metadata": {},
   "source": [
    "## Final prediction"
   ]
  },
  {
   "cell_type": "code",
   "execution_count": null,
   "metadata": {},
   "outputs": [],
   "source": []
  },
  {
   "cell_type": "markdown",
   "metadata": {},
   "source": [
    "## Test result insights"
   ]
  },
  {
   "cell_type": "code",
   "execution_count": null,
   "metadata": {},
   "outputs": [],
   "source": []
  }
 ],
 "metadata": {
  "kernelspec": {
   "display_name": ".venv",
   "language": "python",
   "name": "python3"
  },
  "language_info": {
   "codemirror_mode": {
    "name": "ipython",
    "version": 3
   },
   "file_extension": ".py",
   "mimetype": "text/x-python",
   "name": "python",
   "nbconvert_exporter": "python",
   "pygments_lexer": "ipython3",
   "version": "3.10.6"
  }
 },
 "nbformat": 4,
 "nbformat_minor": 2
}
